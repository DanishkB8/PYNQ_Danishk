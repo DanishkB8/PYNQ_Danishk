{
 "cells": [
  {
   "cell_type": "markdown",
   "id": "2e3ebab5",
   "metadata": {},
   "source": [
    "## Importing Required Libraries"
   ]
  },
  {
   "cell_type": "code",
   "execution_count": 1,
   "id": "7b6d0334-b4da-42c8-8e6c-45f5277f11f4",
   "metadata": {},
   "outputs": [],
   "source": [
    "import matplotlib.pyplot as plt\n",
    "import numpy as np\n",
    "import time\n"
   ]
  },
  {
   "cell_type": "markdown",
   "id": "2c0e85b7",
   "metadata": {},
   "source": [
    "## Signal Data Generation\n",
    "Creating a composite signal made up of three sine waves. The signal is sampled at a specific rate and is ready for performing an FFT."
   ]
  },
  {
   "cell_type": "code",
   "execution_count": 2,
   "id": "f0c32b51",
   "metadata": {},
   "outputs": [],
   "source": [
    "N=8192\n",
    "T=1\n",
    "f1=200\n",
    "f2=300\n",
    "f3=400\n",
    "t=np.linspace(0,T,N)\n",
    "freq=np.fft.fftfreq(N*T,1/N)\n",
    "data=400*np.sin(2*np.pi*f1*t,dtype=np.csingle)+200*np.sin(2*np.pi*f2*t,dtype=np.csingle)+50*np.sin(2*np.pi*f3*t,dtype=np.csingle)"
   ]
  },
  {
   "cell_type": "markdown",
   "id": "9b8e30f7",
   "metadata": {},
   "source": [
    "## Performing FFT Using NumPy"
   ]
  },
  {
   "cell_type": "code",
   "execution_count": 3,
   "id": "97d8f52c",
   "metadata": {},
   "outputs": [
    {
     "name": "stdout",
     "output_type": "stream",
     "text": [
      "CPU times: user 3.57 ms, sys: 0 ns, total: 3.57 ms\n",
      "Wall time: 2.77 ms\n"
     ]
    }
   ],
   "source": [
    "%%time\n",
    "dft=np.fft.fft(data)"
   ]
  },
  {
   "cell_type": "code",
   "execution_count": 4,
   "id": "78b7e163",
   "metadata": {},
   "outputs": [
    {
     "data": {
      "text/plain": [
       "[<matplotlib.lines.Line2D at 0xffff9285f160>]"
      ]
     },
     "execution_count": 4,
     "metadata": {},
     "output_type": "execute_result"
    },
    {
     "data": {
      "image/png": "[encoded data removed]",
      "text/plain": [
       "<Figure size 432x288 with 1 Axes>"
      ]
     },
     "metadata": {
      "needs_background": "light"
     },
     "output_type": "display_data"
    }
   ],
   "source": [
    "plt.plot(freq,np.abs(dft))"
   ]
  },
  {
   "cell_type": "markdown",
   "id": "5a3d2432",
   "metadata": {},
   "source": [
    "## Loading PYNQ Overlay and Setting Up DMA Channels\n",
    "Loading the custom FPGA configuration (bitstream) for FFT processing and sets up the DMA channels. These channels will be used to transfer data between the CPU and FPGA efficiently."
   ]
  },
  {
   "cell_type": "code",
   "execution_count": 5,
   "id": "79c7e972",
   "metadata": {},
   "outputs": [
    {
     "data": {
      "application/javascript": [
       "\n",
       "try {\n",
       "require(['notebook/js/codecell'], function(codecell) {\n",
       "  codecell.CodeCell.options_default.highlight_modes[\n",
       "      'magic_text/x-csrc'] = {'reg':[/^%%microblaze/]};\n",
       "  Jupyter.notebook.events.one('kernel_ready.Kernel', function(){\n",
       "      Jupyter.notebook.get_cells().map(function(cell){\n",
       "          if (cell.cell_type == 'code'){ cell.auto_highlight(); } }) ;\n",
       "  });\n",
       "});\n",
       "} catch (e) {};\n"
      ]
     },
     "metadata": {},
     "output_type": "display_data"
    },
    {
     "data": {
      "application/javascript": [
       "\n",
       "try {\n",
       "require(['notebook/js/codecell'], function(codecell) {\n",
       "  codecell.CodeCell.options_default.highlight_modes[\n",
       "      'magic_text/x-csrc'] = {'reg':[/^%%pybind11/]};\n",
       "  Jupyter.notebook.events.one('kernel_ready.Kernel', function(){\n",
       "      Jupyter.notebook.get_cells().map(function(cell){\n",
       "          if (cell.cell_type == 'code'){ cell.auto_highlight(); } }) ;\n",
       "  });\n",
       "});\n",
       "} catch (e) {};\n"
      ]
     },
     "metadata": {},
     "output_type": "display_data"
    }
   ],
   "source": [
    "from pynq import Overlay\n",
    "import pynq.lib.dma\n",
    "from pynq import allocate\n",
    "# Load the overlay\n",
    "ol = Overlay(\"fft.bit\")\n",
    "# Load the FIR DMA\n",
    "data_dma = ol.fft.data_dma\n",
    "config_dma = ol.fft.config_dma\n",
    "\n",
    "data_send=data_dma.sendchannel\n",
    "data_recv=data_dma.recvchannel\n",
    "config_send=config_dma.sendchannel"
   ]
  },
  {
   "cell_type": "markdown",
   "id": "cef9a508",
   "metadata": {},
   "source": [
    "## Configuring the FFT IP Core\n",
    "\n",
    "![image](./config.JPG)\n",
    "\n",
    "- In PAD area ,padding is done, 0 is added there\n",
    "- We don't need CP_LEN, so all 0\n",
    "- FWD/INV is to select what operation to perform, Normal FFT or Inverse FFT\n",
    "- NFFT is to select the FFT Size, eg if N=1024(2^10), so we need to set it to 10(1010)"
   ]
  },
  {
   "cell_type": "code",
   "execution_count": 6,
   "id": "17a3ea0a-139d-406a-b603-68c90de98b6d",
   "metadata": {},
   "outputs": [],
   "source": [
    "from math import log\n",
    "def config(op,size):\n",
    "\n",
    "    cplen='0'*8\n",
    "\n",
    "    x=int(log(size,2))\n",
    "    x_bin=bin(x)[2:]\n",
    "    \n",
    "    tdata=op.zfill(8)+cplen+x_bin.zfill(8)\n",
    "    return int(tdata,2)\n"
   ]
  },
  {
   "cell_type": "markdown",
   "id": "c49f7e1f",
   "metadata": {},
   "source": [
    "## Passing the Configuration Data\n",
    "Allocating the memory buffer for configuration data and passing it to the FFT IP:"
   ]
  },
  {
   "cell_type": "code",
   "execution_count": 7,
   "id": "2c451263-b8d3-4345-b57d-c96e45761838",
   "metadata": {},
   "outputs": [],
   "source": [
    "config_buffer =allocate(1,np.uint32)\n",
    "config_buffer[0]=config('1',N)"
   ]
  },
  {
   "cell_type": "code",
   "execution_count": 8,
   "id": "306f2a01-8a4c-4713-99c4-6ac20f2f84cd",
   "metadata": {},
   "outputs": [],
   "source": [
    "config_send.transfer(config_buffer)"
   ]
  },
  {
   "cell_type": "markdown",
   "id": "5a1c5c6f",
   "metadata": {},
   "source": [
    "## Hardware-Accelerated FFT Execution\n",
    "Allocating memory buffers for input and output and further performing FFT using Hardware:"
   ]
  },
  {
   "cell_type": "code",
   "execution_count": 9,
   "id": "673b88a5",
   "metadata": {},
   "outputs": [],
   "source": [
    "data_buffer = allocate(N,np.csingle)\n",
    "out_buffer = allocate(N,np.csingle)\n",
    "np.copyto (data_buffer, data)"
   ]
  },
  {
   "cell_type": "code",
   "execution_count": 10,
   "id": "bc9b7ef1-ab3b-441c-af59-0c26d0f2d148",
   "metadata": {},
   "outputs": [
    {
     "name": "stdout",
     "output_type": "stream",
     "text": [
      "CPU times: user 688 µs, sys: 0 ns, total: 688 µs\n",
      "Wall time: 643 µs\n"
     ]
    }
   ],
   "source": [
    "%%time\n",
    "data_send.transfer(data_buffer)\n",
    "data_recv.transfer (out_buffer)"
   ]
  },
  {
   "cell_type": "code",
   "execution_count": 11,
   "id": "3af235c7",
   "metadata": {},
   "outputs": [
    {
     "data": {
      "text/plain": [
       "[<matplotlib.lines.Line2D at 0xffff914a3700>]"
      ]
     },
     "execution_count": 11,
     "metadata": {},
     "output_type": "execute_result"
    },
    {
     "data": {
      "image/png": "[encoded data removed]",
      "text/plain": [
       "<Figure size 432x288 with 1 Axes>"
      ]
     },
     "metadata": {
      "needs_background": "light"
     },
     "output_type": "display_data"
    }
   ],
   "source": [
    "plt.plot(freq,np.abs(out_buffer))"
   ]
  },
  {
   "cell_type": "markdown",
   "id": "49530fcf",
   "metadata": {},
   "source": [
    "## Cleaning Up"
   ]
  },
  {
   "cell_type": "code",
   "execution_count": 12,
   "id": "0b8b8cb9",
   "metadata": {},
   "outputs": [],
   "source": [
    "del config_buffer\n",
    "del data_buffer\n",
    "del out_buffer"
   ]
  }
 ],
 "metadata": {
  "kernelspec": {
   "display_name": "Python 3",
   "language": "python",
   "name": "python3"
  },
  "language_info": {
   "codemirror_mode": {
    "name": "ipython",
    "version": 3
   },
   "file_extension": ".py",
   "mimetype": "text/x-python",
   "name": "python",
   "nbconvert_exporter": "python",
   "pygments_lexer": "ipython3",
   "version": "3.8.2"
  }
 },
 "nbformat": 4,
 "nbformat_minor": 5
}
